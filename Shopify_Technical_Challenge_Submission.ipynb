{
  "nbformat": 4,
  "nbformat_minor": 0,
  "metadata": {
    "kernelspec": {
      "display_name": "Python 3",
      "language": "python",
      "name": "python3"
    },
    "language_info": {
      "codemirror_mode": {
        "name": "ipython",
        "version": 3
      },
      "file_extension": ".py",
      "mimetype": "text/x-python",
      "name": "python",
      "nbconvert_exporter": "python",
      "pygments_lexer": "ipython3",
      "version": "3.7.6"
    },
    "colab": {
      "name": "Shopify Technical Challenge Submission.ipynb",
      "provenance": [],
      "collapsed_sections": []
    }
  },
  "cells": [
    {
      "cell_type": "markdown",
      "metadata": {
        "id": "GLOOZC_dSWBS"
      },
      "source": [
        "# Q1\n",
        "## a\n"
      ]
    },
    {
      "cell_type": "code",
      "metadata": {
        "id": "p8_6JTQHSWBT"
      },
      "source": [
        "import pandas as pd\n",
        "import matplotlib.pyplot as plt \n",
        "data = pd.read_excel(\"2019 Winter Data Science Intern Challenge Data Set.xlsx\")"
      ],
      "execution_count": 1,
      "outputs": []
    },
    {
      "cell_type": "code",
      "metadata": {
        "colab": {
          "base_uri": "https://localhost:8080/"
        },
        "id": "56XlUXFWSWBU",
        "outputId": "d92299e6-b34b-4f15-fdc9-16f6a4c1d234"
      },
      "source": [
        "#check the order amount information\n",
        "data.order_amount.describe()"
      ],
      "execution_count": 5,
      "outputs": [
        {
          "output_type": "execute_result",
          "data": {
            "text/plain": [
              "count      5000.000000\n",
              "mean       3145.128000\n",
              "std       41282.539349\n",
              "min          90.000000\n",
              "25%         163.000000\n",
              "50%         284.000000\n",
              "75%         390.000000\n",
              "max      704000.000000\n",
              "Name: order_amount, dtype: float64"
            ]
          },
          "metadata": {},
          "execution_count": 5
        }
      ]
    },
    {
      "cell_type": "markdown",
      "metadata": {
        "id": "r7ubWRA4SWBV"
      },
      "source": [
        "Since the standard deviation of the order amount is as high as 41282 and 75% of the order amount is not greater than 390, the AOV of 3145.13 is affected by the outliers like 704000. "
      ]
    },
    {
      "cell_type": "code",
      "metadata": {
        "colab": {
          "base_uri": "https://localhost:8080/"
        },
        "id": "iBika8rASWBW",
        "outputId": "8b1f9c44-c5c0-41ce-9d45-77334a7fdf8e"
      },
      "source": [
        "#then check the total items to find the relationship between order amount and total items\n",
        "data.total_items.describe()"
      ],
      "execution_count": 6,
      "outputs": [
        {
          "output_type": "execute_result",
          "data": {
            "text/plain": [
              "count    5000.00000\n",
              "mean        8.78720\n",
              "std       116.32032\n",
              "min         1.00000\n",
              "25%         1.00000\n",
              "50%         2.00000\n",
              "75%         3.00000\n",
              "max      2000.00000\n",
              "Name: total_items, dtype: float64"
            ]
          },
          "metadata": {},
          "execution_count": 6
        }
      ]
    },
    {
      "cell_type": "markdown",
      "metadata": {
        "id": "960_hDGnSWBW"
      },
      "source": [
        "The outliers of 704000 could be result from large orders with 2000 items."
      ]
    },
    {
      "cell_type": "code",
      "metadata": {
        "colab": {
          "base_uri": "https://localhost:8080/",
          "height": 282
        },
        "id": "ha5i1In9SWBW",
        "outputId": "b4fb4f04-2e1b-4ae8-be13-59aafb7f12c4"
      },
      "source": [
        "#plot the orders(total items, order amount) to find the distribution and outliers\n",
        "plt.scatter(data.total_items, data.order_amount)"
      ],
      "execution_count": 7,
      "outputs": [
        {
          "output_type": "execute_result",
          "data": {
            "text/plain": [
              "<matplotlib.collections.PathCollection at 0x7efe82b43210>"
            ]
          },
          "metadata": {},
          "execution_count": 7
        },
        {
          "output_type": "display_data",
          "data": {
            "image/png": "[encoded data removed]",
            "text/plain": [
              "<Figure size 432x288 with 1 Axes>"
            ]
          },
          "metadata": {
            "needs_background": "light"
          }
        }
      ]
    },
    {
      "cell_type": "markdown",
      "metadata": {
        "id": "IoMdbcfnSWBX"
      },
      "source": [
        "According to the scatter plot of items and amount of each order, we can see that there are some orders with 2000 items and large amount, which made the AOV of 3145.13 unreasonable.\n",
        "\n",
        "A better way to evaluate AOV is median, which would be affected by the outliers less. The median of order amount is \\$284."
      ]
    },
    {
      "cell_type": "markdown",
      "metadata": {
        "id": "5-IR7qSVSWBX"
      },
      "source": [
        "## b"
      ]
    },
    {
      "cell_type": "markdown",
      "metadata": {
        "id": "vQyl5lLbSWBX"
      },
      "source": [
        "Another metric I would report for this dataset is the mode of order amount as it would not be affected by the outliers and reflect the most common orders."
      ]
    },
    {
      "cell_type": "markdown",
      "metadata": {
        "id": "5s0eL9zTSWBX"
      },
      "source": [
        "## c"
      ]
    },
    {
      "cell_type": "code",
      "metadata": {
        "id": "vK1Nav2gSWBX",
        "outputId": "b28ce765-ff56-434b-fbf8-054ec6669715"
      },
      "source": [
        "data.order_amount.mode()"
      ],
      "execution_count": null,
      "outputs": [
        {
          "data": {
            "text/plain": [
              "0    153\n",
              "dtype: int64"
            ]
          },
          "execution_count": 5,
          "metadata": {},
          "output_type": "execute_result"
        }
      ]
    },
    {
      "cell_type": "markdown",
      "metadata": {
        "id": "-uf4_agESWBX"
      },
      "source": [
        "The value of the mode of order amount is \\$153."
      ]
    },
    {
      "cell_type": "markdown",
      "metadata": {
        "id": "zYq8CImISWBY"
      },
      "source": [
        "# Q2"
      ]
    },
    {
      "cell_type": "markdown",
      "metadata": {
        "id": "KoPxAx29SWBY"
      },
      "source": [
        "## a"
      ]
    },
    {
      "cell_type": "markdown",
      "metadata": {
        "id": "ct7Ot2aKSWBY"
      },
      "source": [
        "SELECT COUNT(*) as SENum\n",
        "\n",
        "FROM Orders JOIN Shippers ON Orders.ShipperID = Shippers.ShipperID\n",
        "\n",
        "WHERE Shippers.ShipperName = \"Speedy Express\""
      ]
    },
    {
      "cell_type": "markdown",
      "metadata": {
        "id": "9BKFQS9tSWBY"
      },
      "source": [
        "**output:**\n",
        "\n",
        "54"
      ]
    },
    {
      "cell_type": "markdown",
      "metadata": {
        "id": "8vGRrJqHSWBY"
      },
      "source": [
        "## b"
      ]
    },
    {
      "cell_type": "markdown",
      "metadata": {
        "id": "-DeXBUVUSWBY"
      },
      "source": [
        "SELECT Employees.LastName, COUNT(Orders.OrderID) AS OrderNum\n",
        "\n",
        "FROM Orders JOIN Employees ON Orders.EmployeeID = Employees.EmployeeID\n",
        "\n",
        "GROUP BY Employees.LastName \n",
        "\n",
        "ORDER BY OrderNum DESC\n",
        "\n",
        "LIMIT 1"
      ]
    },
    {
      "cell_type": "markdown",
      "metadata": {
        "id": "3KNh-5QiSWBY"
      },
      "source": [
        "**output:**\n",
        "\n",
        "Peacock with 40 orders."
      ]
    },
    {
      "cell_type": "markdown",
      "metadata": {
        "id": "myqVdiwDSWBZ"
      },
      "source": [
        "## c"
      ]
    },
    {
      "cell_type": "markdown",
      "metadata": {
        "id": "4H1V5mW0SWBZ"
      },
      "source": [
        "SELECT Products.ProductName, SUM(OrderDetails.Quantity) AS OrderQuantity\n",
        "\n",
        "FROM Orders JOIN Customers ON Orders.CustomerID = Customers.CustomerID JOIN OrderDetails ON OrderDetails.OrderID = Orders.OrderID JOIN Products ON Products.ProductID = OrderDetails.ProductID WHERE Customers.Country = 'Germany'\n",
        "\n",
        "GROUP BY OrderDetails.ProductID\n",
        "\n",
        "ORDER BY OrderQuantity DESC\n",
        "\n",
        "LIMIT 1\n"
      ]
    },
    {
      "cell_type": "markdown",
      "metadata": {
        "id": "JebAMKu-SWBZ"
      },
      "source": [
        "**output:**\n",
        "\n",
        "Boston Crab Meat with 160 ordered."
      ]
    }
  ]
}